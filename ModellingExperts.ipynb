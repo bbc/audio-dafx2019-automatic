{
 "cells": [
  {
   "cell_type": "markdown",
   "metadata": {},
   "source": [
    "# Modelling Expert's Choices for Importance Assignment\n",
    "\n",
    "In this workbook we do the main work on modelling the choices made from the Narrative Importance web experiment using mixture models. We show how we can easily estimate such models using [pyro.ai](http://pyro.ai). The main process is:\n",
    "\n",
    "1. Load the data from the online experiment\n",
    "2. Compute features for each track\n",
    "   - True peak to integrated loudness\n",
    "   - Ratio of speech in track (see MusicSpeechSFx.ipynb discriminator)\n",
    "   - Ratio of music in track\n",
    "   - Total Duration\n",
    "3. Code and fit the mixture model in pyro\n",
    "4. Test against a set of data\n",
    "5. Test against the producer experiment"
   ]
  },
  {
   "cell_type": "markdown",
   "metadata": {},
   "source": [
    "Initially we load the necessary models as well as the data from the online experiment:"
   ]
  },
  {
   "cell_type": "code",
   "execution_count": 1,
   "metadata": {
    "ExecuteTime": {
     "end_time": "2019-03-03T21:31:59.244535Z",
     "start_time": "2019-03-03T21:31:59.040336Z"
    }
   },
   "outputs": [
    {
     "data": {
      "text/html": [
       "<div>\n",
       "<style scoped>\n",
       "    .dataframe tbody tr th:only-of-type {\n",
       "        vertical-align: middle;\n",
       "    }\n",
       "\n",
       "    .dataframe tbody tr th {\n",
       "        vertical-align: top;\n",
       "    }\n",
       "\n",
       "    .dataframe thead th {\n",
       "        text-align: right;\n",
       "    }\n",
       "</style>\n",
       "<table border=\"1\" class=\"dataframe\">\n",
       "  <thead>\n",
       "    <tr style=\"text-align: right;\">\n",
       "      <th></th>\n",
       "      <th>Unnamed: 0</th>\n",
       "      <th>asset_fname</th>\n",
       "      <th>bark_max</th>\n",
       "      <th>bark_mean</th>\n",
       "      <th>bark_min</th>\n",
       "      <th>crest_max</th>\n",
       "      <th>crest_mean</th>\n",
       "      <th>crest_min</th>\n",
       "      <th>loudness_I</th>\n",
       "      <th>relative_duration</th>\n",
       "      <th>...</th>\n",
       "      <th>object_name</th>\n",
       "      <th>assigned</th>\n",
       "      <th>low</th>\n",
       "      <th>medium</th>\n",
       "      <th>high</th>\n",
       "      <th>essential</th>\n",
       "      <th>class</th>\n",
       "      <th>p_music</th>\n",
       "      <th>p_sfx</th>\n",
       "      <th>p_speech</th>\n",
       "    </tr>\n",
       "  </thead>\n",
       "  <tbody>\n",
       "    <tr>\n",
       "      <th>0</th>\n",
       "      <td>0</td>\n",
       "      <td>CreatureFootsteps.wav</td>\n",
       "      <td>0.30702</td>\n",
       "      <td>0.003003</td>\n",
       "      <td>0.0</td>\n",
       "      <td>36.849213</td>\n",
       "      <td>5.808205</td>\n",
       "      <td>0.0</td>\n",
       "      <td>-21.8</td>\n",
       "      <td>0.247091</td>\n",
       "      <td>...</td>\n",
       "      <td>Creature Footsteps</td>\n",
       "      <td>2</td>\n",
       "      <td>0</td>\n",
       "      <td>0</td>\n",
       "      <td>1</td>\n",
       "      <td>0</td>\n",
       "      <td>sfx</td>\n",
       "      <td>0.0</td>\n",
       "      <td>1.0</td>\n",
       "      <td>0.0</td>\n",
       "    </tr>\n",
       "    <tr>\n",
       "      <th>1</th>\n",
       "      <td>1</td>\n",
       "      <td>CreatureFootsteps.wav</td>\n",
       "      <td>0.30702</td>\n",
       "      <td>0.003003</td>\n",
       "      <td>0.0</td>\n",
       "      <td>36.849213</td>\n",
       "      <td>5.808205</td>\n",
       "      <td>0.0</td>\n",
       "      <td>-21.8</td>\n",
       "      <td>0.247091</td>\n",
       "      <td>...</td>\n",
       "      <td>Creature Footsteps</td>\n",
       "      <td>2</td>\n",
       "      <td>0</td>\n",
       "      <td>0</td>\n",
       "      <td>1</td>\n",
       "      <td>0</td>\n",
       "      <td>sfx</td>\n",
       "      <td>0.0</td>\n",
       "      <td>1.0</td>\n",
       "      <td>0.0</td>\n",
       "    </tr>\n",
       "    <tr>\n",
       "      <th>2</th>\n",
       "      <td>2</td>\n",
       "      <td>CreatureFootsteps.wav</td>\n",
       "      <td>0.30702</td>\n",
       "      <td>0.003003</td>\n",
       "      <td>0.0</td>\n",
       "      <td>36.849213</td>\n",
       "      <td>5.808205</td>\n",
       "      <td>0.0</td>\n",
       "      <td>-21.8</td>\n",
       "      <td>0.247091</td>\n",
       "      <td>...</td>\n",
       "      <td>Creature Footsteps</td>\n",
       "      <td>2</td>\n",
       "      <td>0</td>\n",
       "      <td>0</td>\n",
       "      <td>1</td>\n",
       "      <td>0</td>\n",
       "      <td>sfx</td>\n",
       "      <td>0.0</td>\n",
       "      <td>1.0</td>\n",
       "      <td>0.0</td>\n",
       "    </tr>\n",
       "    <tr>\n",
       "      <th>3</th>\n",
       "      <td>3</td>\n",
       "      <td>CreatureFootsteps.wav</td>\n",
       "      <td>0.30702</td>\n",
       "      <td>0.003003</td>\n",
       "      <td>0.0</td>\n",
       "      <td>36.849213</td>\n",
       "      <td>5.808205</td>\n",
       "      <td>0.0</td>\n",
       "      <td>-21.8</td>\n",
       "      <td>0.247091</td>\n",
       "      <td>...</td>\n",
       "      <td>Creature Footsteps</td>\n",
       "      <td>2</td>\n",
       "      <td>0</td>\n",
       "      <td>0</td>\n",
       "      <td>1</td>\n",
       "      <td>0</td>\n",
       "      <td>sfx</td>\n",
       "      <td>0.0</td>\n",
       "      <td>1.0</td>\n",
       "      <td>0.0</td>\n",
       "    </tr>\n",
       "    <tr>\n",
       "      <th>4</th>\n",
       "      <td>4</td>\n",
       "      <td>CreatureFootsteps.wav</td>\n",
       "      <td>0.30702</td>\n",
       "      <td>0.003003</td>\n",
       "      <td>0.0</td>\n",
       "      <td>36.849213</td>\n",
       "      <td>5.808205</td>\n",
       "      <td>0.0</td>\n",
       "      <td>-21.8</td>\n",
       "      <td>0.247091</td>\n",
       "      <td>...</td>\n",
       "      <td>Creature Footsteps</td>\n",
       "      <td>1</td>\n",
       "      <td>0</td>\n",
       "      <td>1</td>\n",
       "      <td>0</td>\n",
       "      <td>0</td>\n",
       "      <td>sfx</td>\n",
       "      <td>0.0</td>\n",
       "      <td>1.0</td>\n",
       "      <td>0.0</td>\n",
       "    </tr>\n",
       "  </tbody>\n",
       "</table>\n",
       "<p>5 rows × 31 columns</p>\n",
       "</div>"
      ],
      "text/plain": [
       "   Unnamed: 0            asset_fname  bark_max  bark_mean  bark_min  \\\n",
       "0           0  CreatureFootsteps.wav   0.30702   0.003003       0.0   \n",
       "1           1  CreatureFootsteps.wav   0.30702   0.003003       0.0   \n",
       "2           2  CreatureFootsteps.wav   0.30702   0.003003       0.0   \n",
       "3           3  CreatureFootsteps.wav   0.30702   0.003003       0.0   \n",
       "4           4  CreatureFootsteps.wav   0.30702   0.003003       0.0   \n",
       "\n",
       "   crest_max  crest_mean  crest_min  loudness_I  relative_duration  ...  \\\n",
       "0  36.849213    5.808205        0.0       -21.8           0.247091  ...   \n",
       "1  36.849213    5.808205        0.0       -21.8           0.247091  ...   \n",
       "2  36.849213    5.808205        0.0       -21.8           0.247091  ...   \n",
       "3  36.849213    5.808205        0.0       -21.8           0.247091  ...   \n",
       "4  36.849213    5.808205        0.0       -21.8           0.247091  ...   \n",
       "\n",
       "          object_name  assigned  low  medium  high  essential  class  p_music  \\\n",
       "0  Creature Footsteps         2    0       0     1          0    sfx      0.0   \n",
       "1  Creature Footsteps         2    0       0     1          0    sfx      0.0   \n",
       "2  Creature Footsteps         2    0       0     1          0    sfx      0.0   \n",
       "3  Creature Footsteps         2    0       0     1          0    sfx      0.0   \n",
       "4  Creature Footsteps         1    0       1     0          0    sfx      0.0   \n",
       "\n",
       "   p_sfx p_speech  \n",
       "0    1.0      0.0  \n",
       "1    1.0      0.0  \n",
       "2    1.0      0.0  \n",
       "3    1.0      0.0  \n",
       "4    1.0      0.0  \n",
       "\n",
       "[5 rows x 31 columns]"
      ]
     },
     "execution_count": 1,
     "metadata": {},
     "output_type": "execute_result"
    }
   ],
   "source": [
    "from __future__ import print_function\n",
    "\n",
    "# Import relevant modules and load data.\n",
    "import pandas as pd\n",
    "from sklearn.model_selection import train_test_split\n",
    "import numpy as np\n",
    "from collections import defaultdict\n",
    "import matplotlib.pyplot as plt\n",
    "\n",
    "import numpy as np \n",
    "import os\n",
    "from collections import defaultdict\n",
    "import numpy as np\n",
    "import scipy.stats\n",
    "import torch\n",
    "torch.manual_seed(3)\n",
    "from torch.distributions import constraints\n",
    "from matplotlib import pyplot\n",
    "\n",
    "import pyro\n",
    "import pyro.distributions as dist\n",
    "from pyro import poutine\n",
    "from pyro.contrib.autoguide import AutoDelta\n",
    "from pyro.optim import Adam\n",
    "from pyro.infer import SVI, TraceEnum_ELBO, config_enumerate, infer_discrete\n",
    "import matplotlib.pyplot as pyplot\n",
    "\n",
    "import tqdm\n",
    "\n",
    "\n",
    "smoke_test = ('CI' in os.environ)\n",
    "assert pyro.__version__.startswith('0.3')\n",
    "pyro.enable_validation(True)\n",
    "np.random.seed(1)\n",
    "\n",
    "\n",
    "df = pd.read_csv('../assets/json/features_classes_importances.csv')\n",
    "df.head()"
   ]
  },
  {
   "cell_type": "markdown",
   "metadata": {},
   "source": [
    "Below are the name of the tracks (objects) and the filenames they correspond to."
   ]
  },
  {
   "cell_type": "code",
   "execution_count": 2,
   "metadata": {},
   "outputs": [
    {
     "data": {
      "text/html": [
       "<div>\n",
       "<style scoped>\n",
       "    .dataframe tbody tr th:only-of-type {\n",
       "        vertical-align: middle;\n",
       "    }\n",
       "\n",
       "    .dataframe tbody tr th {\n",
       "        vertical-align: top;\n",
       "    }\n",
       "\n",
       "    .dataframe thead th {\n",
       "        text-align: right;\n",
       "    }\n",
       "</style>\n",
       "<table border=\"1\" class=\"dataframe\">\n",
       "  <thead>\n",
       "    <tr style=\"text-align: right;\">\n",
       "      <th></th>\n",
       "      <th>object_name</th>\n",
       "      <th>asset_fname</th>\n",
       "    </tr>\n",
       "  </thead>\n",
       "  <tbody>\n",
       "    <tr>\n",
       "      <th>0</th>\n",
       "      <td>Creature Footsteps</td>\n",
       "      <td>CreatureFootsteps.wav</td>\n",
       "    </tr>\n",
       "    <tr>\n",
       "      <th>34</th>\n",
       "      <td>Creature Landing</td>\n",
       "      <td>CreatureLanding.wav</td>\n",
       "    </tr>\n",
       "    <tr>\n",
       "      <th>68</th>\n",
       "      <td>Crickets</td>\n",
       "      <td>Crickets.wav</td>\n",
       "    </tr>\n",
       "    <tr>\n",
       "      <th>102</th>\n",
       "      <td>Narrator</td>\n",
       "      <td>Narrator.wav</td>\n",
       "    </tr>\n",
       "    <tr>\n",
       "      <th>136</th>\n",
       "      <td>Spooky Strings</td>\n",
       "      <td>SpookyStrings.wav</td>\n",
       "    </tr>\n",
       "    <tr>\n",
       "      <th>170</th>\n",
       "      <td>Boy Voice 2</td>\n",
       "      <td>BoyVoice2.wav</td>\n",
       "    </tr>\n",
       "    <tr>\n",
       "      <th>204</th>\n",
       "      <td>Melodic Woodwind</td>\n",
       "      <td>Flute.wav</td>\n",
       "    </tr>\n",
       "    <tr>\n",
       "      <th>238</th>\n",
       "      <td>Boy Panting + Birds</td>\n",
       "      <td>BoyPanting+Birds.wav</td>\n",
       "    </tr>\n",
       "    <tr>\n",
       "      <th>272</th>\n",
       "      <td>Kids Voices</td>\n",
       "      <td>KidsVoices.wav</td>\n",
       "    </tr>\n",
       "    <tr>\n",
       "      <th>306</th>\n",
       "      <td>Growl</td>\n",
       "      <td>Growl.wav</td>\n",
       "    </tr>\n",
       "    <tr>\n",
       "      <th>340</th>\n",
       "      <td>Wind + Birds</td>\n",
       "      <td>Winds&amp;Birds.wav</td>\n",
       "    </tr>\n",
       "    <tr>\n",
       "      <th>374</th>\n",
       "      <td>Girl Voice</td>\n",
       "      <td>GirlVoice.wav</td>\n",
       "    </tr>\n",
       "    <tr>\n",
       "      <th>408</th>\n",
       "      <td>Frogs</td>\n",
       "      <td>Frogs.wav</td>\n",
       "    </tr>\n",
       "    <tr>\n",
       "      <th>442</th>\n",
       "      <td>Bird Taking Flight</td>\n",
       "      <td>BirdTakingFlight.wav</td>\n",
       "    </tr>\n",
       "    <tr>\n",
       "      <th>476</th>\n",
       "      <td>Boy Voice 1</td>\n",
       "      <td>BoyVoice1.wav</td>\n",
       "    </tr>\n",
       "    <tr>\n",
       "      <th>510</th>\n",
       "      <td>Boy Panting</td>\n",
       "      <td>BoyPanting.wav</td>\n",
       "    </tr>\n",
       "    <tr>\n",
       "      <th>544</th>\n",
       "      <td>Boy Running</td>\n",
       "      <td>BoyRunning.wav</td>\n",
       "    </tr>\n",
       "    <tr>\n",
       "      <th>578</th>\n",
       "      <td>Creature Smile</td>\n",
       "      <td>CreatureSmile.wav</td>\n",
       "    </tr>\n",
       "    <tr>\n",
       "      <th>612</th>\n",
       "      <td>Boy Humming</td>\n",
       "      <td>BoyHumming.wav</td>\n",
       "    </tr>\n",
       "    <tr>\n",
       "      <th>646</th>\n",
       "      <td>Creature Voice</td>\n",
       "      <td>CreatureVoice.wav</td>\n",
       "    </tr>\n",
       "    <tr>\n",
       "      <th>680</th>\n",
       "      <td>Tree Falling</td>\n",
       "      <td>TreeFalling.wav</td>\n",
       "    </tr>\n",
       "    <tr>\n",
       "      <th>714</th>\n",
       "      <td>Branch Break</td>\n",
       "      <td>BranchBreak.wav</td>\n",
       "    </tr>\n",
       "    <tr>\n",
       "      <th>748</th>\n",
       "      <td>Boy Running + Falling</td>\n",
       "      <td>BoyRunningFalling.wav</td>\n",
       "    </tr>\n",
       "  </tbody>\n",
       "</table>\n",
       "</div>"
      ],
      "text/plain": [
       "               object_name            asset_fname\n",
       "0       Creature Footsteps  CreatureFootsteps.wav\n",
       "34        Creature Landing    CreatureLanding.wav\n",
       "68                Crickets           Crickets.wav\n",
       "102               Narrator           Narrator.wav\n",
       "136         Spooky Strings      SpookyStrings.wav\n",
       "170            Boy Voice 2          BoyVoice2.wav\n",
       "204       Melodic Woodwind              Flute.wav\n",
       "238    Boy Panting + Birds   BoyPanting+Birds.wav\n",
       "272            Kids Voices         KidsVoices.wav\n",
       "306                  Growl              Growl.wav\n",
       "340           Wind + Birds        Winds&Birds.wav\n",
       "374             Girl Voice          GirlVoice.wav\n",
       "408                  Frogs              Frogs.wav\n",
       "442     Bird Taking Flight   BirdTakingFlight.wav\n",
       "476            Boy Voice 1          BoyVoice1.wav\n",
       "510            Boy Panting         BoyPanting.wav\n",
       "544            Boy Running         BoyRunning.wav\n",
       "578         Creature Smile      CreatureSmile.wav\n",
       "612            Boy Humming         BoyHumming.wav\n",
       "646         Creature Voice      CreatureVoice.wav\n",
       "680           Tree Falling        TreeFalling.wav\n",
       "714           Branch Break        BranchBreak.wav\n",
       "748  Boy Running + Falling  BoyRunningFalling.wav"
      ]
     },
     "execution_count": 2,
     "metadata": {},
     "output_type": "execute_result"
    }
   ],
   "source": [
    "df[['object_name', 'asset_fname']].drop_duplicates()"
   ]
  },
  {
   "cell_type": "markdown",
   "metadata": {},
   "source": [
    "Split the dataset into training and testing with a predefined random seed"
   ]
  },
  {
   "cell_type": "code",
   "execution_count": 3,
   "metadata": {
    "ExecuteTime": {
     "end_time": "2019-03-03T21:31:59.610094Z",
     "start_time": "2019-03-03T21:31:59.246383Z"
    }
   },
   "outputs": [],
   "source": [
    "object_labels = ['asset_fname']\n",
    "feature_labels = ['assigned','tpti','p_speech','p_music', 'p_sfx', 'total_duration']\n",
    "train_df, test_df = train_test_split(df[object_labels+feature_labels], test_size=0.1, shuffle=True, random_state=1)"
   ]
  },
  {
   "cell_type": "markdown",
   "metadata": {},
   "source": [
    "Split into objects and their data"
   ]
  },
  {
   "cell_type": "code",
   "execution_count": 4,
   "metadata": {
    "ExecuteTime": {
     "end_time": "2019-03-03T21:31:59.615864Z",
     "start_time": "2019-03-03T21:31:59.611933Z"
    }
   },
   "outputs": [],
   "source": [
    "objects = train_df[object_labels].values\n",
    "data = train_df[feature_labels].values.T\n",
    "objects_test = test_df[object_labels].values\n",
    "data_test = test_df[feature_labels].values.T"
   ]
  },
  {
   "cell_type": "markdown",
   "metadata": {},
   "source": [
    "Fetch specific features"
   ]
  },
  {
   "cell_type": "code",
   "execution_count": 5,
   "metadata": {
    "ExecuteTime": {
     "end_time": "2019-03-03T21:31:59.692100Z",
     "start_time": "2019-03-03T21:31:59.616926Z"
    }
   },
   "outputs": [],
   "source": [
    "object_name = df['asset_fname'].values\n",
    "rms = df['tpti'].values\n",
    "pspeech = df['p_speech'].values\n",
    "pmusic = df['p_music'].values\n",
    "psfx = df['p_sfx'].values\n",
    "\n",
    "dur = df['total_duration'].values\n",
    "importances = df['assigned'].values"
   ]
  },
  {
   "cell_type": "markdown",
   "metadata": {},
   "source": [
    "Statistics about features"
   ]
  },
  {
   "cell_type": "code",
   "execution_count": 6,
   "metadata": {
    "ExecuteTime": {
     "end_time": "2019-03-03T21:31:59.786651Z",
     "start_time": "2019-03-03T21:31:59.693362Z"
    }
   },
   "outputs": [
    {
     "data": {
      "text/plain": [
       "Text(0, 0.5, 'p')"
      ]
     },
     "execution_count": 6,
     "metadata": {},
     "output_type": "execute_result"
    },
    {
     "data": {
      "image/png": "[encoded data removed]",
      "text/plain": [
       "<Figure size 432x288 with 1 Axes>"
      ]
     },
     "metadata": {
      "needs_background": "light"
     },
     "output_type": "display_data"
    }
   ],
   "source": [
    "importance_counts = defaultdict(lambda: 0)\n",
    "\n",
    "rms_loc_e = np.mean(rms[importances==3])\n",
    "rms_loc_h = np.mean(rms[importances==2])\n",
    "rms_loc_m = np.mean(rms[importances==1])\n",
    "rms_loc_l = np.mean(rms[importances==0])\n",
    "\n",
    "rms_scale_e = np.std(rms[importances==3])\n",
    "rms_scale_h = np.std(rms[importances==2])\n",
    "rms_scale_m = np.std(rms[importances==1])\n",
    "rms_scale_l = np.std(rms[importances==0])\n",
    "\n",
    "pspeech_loc_e = np.mean(pspeech[importances==3])\n",
    "pspeech_loc_h = np.mean(pspeech[importances==2])\n",
    "pspeech_loc_m = np.mean(pspeech[importances==1])\n",
    "pspeech_loc_l = np.mean(pspeech[importances==0])\n",
    "\n",
    "pspeech_scale_e = np.std(pspeech[importances==3])\n",
    "pspeech_scale_h = np.std(pspeech[importances==2])\n",
    "pspeech_scale_m = np.std(pspeech[importances==1])\n",
    "pspeech_scale_l = np.std(pspeech[importances==0])\n",
    "\n",
    "dur_loc_e = np.mean(dur[importances==3])\n",
    "dur_loc_h = np.mean(dur[importances==2])\n",
    "dur_loc_m = np.mean(dur[importances==1])\n",
    "dur_loc_l = np.mean(dur[importances==0])\n",
    "\n",
    "dur_scale_e = np.std(dur[importances==3])\n",
    "dur_scale_h = np.std(dur[importances==2])\n",
    "dur_scale_m = np.std(dur[importances==1])\n",
    "dur_scale_l = np.std(dur[importances==0])\n",
    "\n",
    "sum_ = 0\n",
    "for I in range(len(importances)):\n",
    "    importance_counts[importances[I]] += 1\n",
    "    sum_ += 1\n",
    "    \n",
    "importance_prior_est = np.zeros((len(importance_counts),))\n",
    "for key in importance_counts.keys():\n",
    "    importance_prior_est[key] = importance_counts[key]/sum_\n",
    "    \n",
    "plt.stem([0,1,2,3], importance_prior_est)\n",
    "plt.title('Prior estimation for importances')\n",
    "plt.xlabel('importance')\n",
    "plt.ylabel('p')    "
   ]
  },
  {
   "cell_type": "markdown",
   "metadata": {},
   "source": [
    "Prepare data for using with pyro, add a minor noise to avoid border conditions 0, and 1 for beta distributed values. "
   ]
  },
  {
   "cell_type": "code",
   "execution_count": 7,
   "metadata": {
    "ExecuteTime": {
     "end_time": "2019-03-03T21:32:00.266599Z",
     "start_time": "2019-03-03T21:32:00.051971Z"
    }
   },
   "outputs": [],
   "source": [
    "data[2,:] = data[2,:]*0.8 + 0.1 + np.random.randn(*data[2,:].shape)*0.001\n",
    "data_test[2,:] = data_test[2,:]*0.8 + 0.1 + np.random.randn(*data_test[2,:].shape)*0.001\n",
    "data[3,:] = data[3,:]*0.8 + 0.1 + np.random.randn(*data[3,:].shape)*0.001\n",
    "data_test[3,:] = data_test[3,:]*0.8 + 0.1 + np.random.randn(*data_test[3,:].shape)*0.001\n",
    "data[4,:] = data[3,:]*0.8 + 0.1 + np.random.randn(*data[3,:].shape)*0.001\n",
    "data_test[4,:] = data_test[3,:]*0.8 + 0.1 + np.random.randn(*data_test[3,:].shape)*0.001\n",
    "data = torch.tensor(data).float()\n",
    "data_test = torch.tensor(data_test).float()"
   ]
  },
  {
   "cell_type": "markdown",
   "metadata": {},
   "source": [
    "Code the mixture model (see the paper). Note that `model_b` is similar to `model` with the exception that the `assigned` is not observed (so we can use it to compute them when classifying)."
   ]
  },
  {
   "cell_type": "code",
   "execution_count": 8,
   "metadata": {
    "ExecuteTime": {
     "end_time": "2019-03-03T21:32:00.343071Z",
     "start_time": "2019-03-03T21:32:00.272583Z"
    }
   },
   "outputs": [],
   "source": [
    "prior_importances_est = torch.tensor(importance_prior_est)\n",
    "\n",
    "@config_enumerate\n",
    "def model(data):\n",
    "    \n",
    "    importances = pyro.sample(\"importances\", pyro.distributions.Dirichlet(2*torch.ones(4)))\n",
    "    with pyro.plate('components', 4) as ind:\n",
    "    \n",
    "        rms_alphas = pyro.sample('rms_alphas', pyro.distributions.Gamma(concentration=7.5*torch.ones(4), rate=torch.ones(4)))\n",
    "        rms_betas = pyro.sample('rms_betas', pyro.distributions.Gamma(concentration=7.5*torch.ones(4), rate=torch.ones(4)))\n",
    "        \n",
    "        pspeech_alphas = pyro.sample('pspeech_alphas', pyro.distributions.Gamma(concentration=7.5*torch.ones(4), rate=torch.ones(4))) \n",
    "        pspeech_betas = pyro.sample('pspeech_betas', pyro.distributions.Gamma(concentration=7.5*torch.ones(4), rate=torch.ones(4)))\n",
    "        \n",
    "        pmusic_alphas = pyro.sample('pmusic_alphas', pyro.distributions.Gamma(concentration=7.5*torch.ones(4), rate=torch.ones(4))) \n",
    "        pmusic_betas = pyro.sample('pmusic_betas', pyro.distributions.Gamma(concentration=7.5*torch.ones(4), rate=torch.ones(4)))\n",
    "\n",
    "        dur_alphas = pyro.sample('dur_alphas', pyro.distributions.Gamma(concentration=7.5*torch.ones(4), rate=torch.ones(4))) \n",
    "        dur_betas = pyro.sample('dur_betas', pyro.distributions.Gamma(concentration=7.5*torch.ones(4), rate=torch.ones(4)))\n",
    "                \n",
    "    with pyro.plate('observations', data.size()[1]) as ind:\n",
    "      \n",
    "         assigned = pyro.sample(\"assigned\", pyro.distributions.Categorical(importances), obs=data[0,ind], infer={\"enumerate\": \"parallel\"}).long()\n",
    "         rms = pyro.sample(\"rms\", pyro.distributions.Beta(rms_alphas[assigned], rms_betas[assigned]), obs=data[1,ind], infer={\"enumerate\": \"parallel\"})\n",
    "         pspeech = pyro.sample(\"pspeech\", pyro.distributions.Beta(pspeech_alphas[assigned],pspeech_betas[assigned]), \n",
    "                               obs=data[2,ind], infer={\"enumerate\": \"parallel\"})\n",
    "         pmusic = pyro.sample(\"pmusic\", pyro.distributions.Beta(pmusic_alphas[assigned],pmusic_betas[assigned]), \n",
    "                               obs=data[4,ind], infer={\"enumerate\": \"parallel\"})\n",
    "         dur = pyro.sample(\"dur\", pyro.distributions.Gamma(concentration=dur_alphas[assigned], rate=dur_betas[assigned]), obs=data[5,ind], infer={\"enumerate\": \"parallel\"})\n",
    "        \n",
    "    return assigned, rms\n",
    "\n",
    "def model_b(data):\n",
    "    \n",
    "    importances = pyro.sample(\"importances\", pyro.distributions.Dirichlet(2*torch.ones(4)))\n",
    "    with pyro.plate('components', 4) as ind:\n",
    "    \n",
    "        rms_alphas = pyro.sample('rms_alphas', pyro.distributions.Gamma(concentration=7.5*torch.ones(4), rate=torch.ones(4)))\n",
    "        rms_betas = pyro.sample('rms_betas', pyro.distributions.Gamma(concentration=7.5*torch.ones(4), rate=torch.ones(4)))\n",
    "        \n",
    "        pspeech_alphas = pyro.sample('pspeech_alphas', pyro.distributions.Gamma(concentration=7.5*torch.ones(4), rate=torch.ones(4))) \n",
    "        pspeech_betas = pyro.sample('pspeech_betas', pyro.distributions.Gamma(concentration=7.5*torch.ones(4), rate=torch.ones(4)))\n",
    "        \n",
    "        pmusic_alphas = pyro.sample('pmusic_alphas', pyro.distributions.Gamma(concentration=7.5*torch.ones(4), rate=torch.ones(4))) \n",
    "        pmusic_betas = pyro.sample('pmusic_betas', pyro.distributions.Gamma(concentration=7.5*torch.ones(4), rate=torch.ones(4)))\n",
    "\n",
    "        dur_alphas = pyro.sample('dur_alphas', pyro.distributions.Gamma(concentration=7.5*torch.ones(4), rate=torch.ones(4))) \n",
    "        dur_betas = pyro.sample('dur_betas', pyro.distributions.Gamma(concentration=7.5*torch.ones(4), rate=torch.ones(4)))\n",
    "                \n",
    "    with pyro.plate('observations', data.size()[1]) as ind:\n",
    "      \n",
    "         assigned = pyro.sample(\"assigned\", pyro.distributions.Categorical(importances), infer={\"enumerate\": \"parallel\"}).long()\n",
    "         rms = pyro.sample(\"rms\", pyro.distributions.Beta(rms_alphas[assigned], rms_betas[assigned]), obs=data[1,ind], infer={\"enumerate\": \"parallel\"})\n",
    "         pspeech = pyro.sample(\"pspeech\", pyro.distributions.Beta(pspeech_alphas[assigned],pspeech_betas[assigned]), \n",
    "                               obs=data[2,ind], infer={\"enumerate\": \"parallel\"})\n",
    "         pmusic = pyro.sample(\"pmusic\", pyro.distributions.Beta(pmusic_alphas[assigned],pmusic_betas[assigned]), \n",
    "                               obs=data[4,ind], infer={\"enumerate\": \"parallel\"})\n",
    "         dur = pyro.sample(\"dur\", pyro.distributions.Gamma(concentration=dur_alphas[assigned], rate=dur_betas[assigned]), obs=data[5,ind], infer={\"enumerate\": \"parallel\"})\n",
    "        \n",
    "    \n",
    "    return assigned, rms \n",
    "\n",
    "# Automatically specify a guide\n",
    "global_guide = AutoDelta(poutine.block(model, expose=['rms_alphas', 'rms_betas', 'importances','pspeech_alphas','pspeech_betas','pmusic_alphas','pmusic_betas', 'dur_alphas', 'dur_betas']))        \n",
    "    "
   ]
  },
  {
   "cell_type": "markdown",
   "metadata": {},
   "source": [
    "Specify optimizer and loss"
   ]
  },
  {
   "cell_type": "code",
   "execution_count": 9,
   "metadata": {
    "ExecuteTime": {
     "end_time": "2019-03-03T21:32:00.675177Z",
     "start_time": "2019-03-03T21:32:00.615776Z"
    }
   },
   "outputs": [],
   "source": [
    "optim = pyro.optim.RMSprop({'lr': 0.01})\n",
    "elbo = TraceEnum_ELBO(max_plate_nesting=1)\n",
    "svi = SVI(model, global_guide, optim, loss=elbo)"
   ]
  },
  {
   "cell_type": "markdown",
   "metadata": {},
   "source": [
    "Do the fitting"
   ]
  },
  {
   "cell_type": "code",
   "execution_count": 10,
   "metadata": {
    "ExecuteTime": {
     "end_time": "2019-03-03T21:32:01.630039Z",
     "start_time": "2019-03-03T21:32:00.757148Z"
    }
   },
   "outputs": [
    {
     "name": "stdout",
     "output_type": "stream",
     "text": [
      "seed = 0, initial_loss = 19811.34765625\n"
     ]
    }
   ],
   "source": [
    "def initialize(seed):\n",
    "    pyro.set_rng_seed(seed)\n",
    "    pyro.clear_param_store()\n",
    "\n",
    "    # Initialize weights to uniform.\n",
    "    pyro.param('auto_rms_alphas', torch.ones(4)*1, constraint=constraints.positive)\n",
    "    pyro.param('auto_rms_betas', torch.ones(4)*1, constraint=constraints.positive)\n",
    "    pyro.param('auto_dur_alphas', torch.ones(4)*1, constraint=constraints.positive)\n",
    "    pyro.param('auto_dur_betas', torch.ones(4)*1, constraint=constraints.positive)    \n",
    "    pyro.param('auto_pspeech_alphas', torch.ones(4)*1, constraint=constraints.positive)\n",
    "    pyro.param('auto_pspeech_betas', torch.ones(4)*1, constraint=constraints.positive)\n",
    "    pyro.param('auto_pmusic_alphas', torch.ones(4)*1, constraint=constraints.positive)\n",
    "    pyro.param('auto_pmusic_betas', torch.ones(4)*1, constraint=constraints.positive)      \n",
    "    pyro.param('auto_importances', torch.ones(4)*0.25, constraint=constraints.simplex)    \n",
    "    loss = svi.loss(model, global_guide, data)\n",
    "    return loss\n",
    "\n",
    "# Choose the best among 100 random initializations.\n",
    "loss, seed = min((initialize(seed), seed) for seed in range(100))\n",
    "initialize(seed)\n",
    "print('seed = {}, initial_loss = {}'.format(seed, loss))"
   ]
  },
  {
   "cell_type": "code",
   "execution_count": 11,
   "metadata": {
    "ExecuteTime": {
     "end_time": "2019-03-03T21:32:19.815077Z",
     "start_time": "2019-03-03T21:32:01.634944Z"
    }
   },
   "outputs": [
    {
     "data": {
      "application/vnd.jupyter.widget-view+json": {
       "model_id": "2e10395dd9404d16ba6cc9f0cfe9b25f",
       "version_major": 2,
       "version_minor": 0
      },
      "text/plain": [
       "HBox(children=(IntProgress(value=0, max=1500), HTML(value='')))"
      ]
     },
     "metadata": {},
     "output_type": "display_data"
    },
    {
     "name": "stdout",
     "output_type": "stream",
     "text": [
      "\n"
     ]
    }
   ],
   "source": [
    "# Register hooks to monitor gradient norms.\n",
    "gradient_norms = defaultdict(list)\n",
    "for name, value in pyro.get_param_store().named_parameters():\n",
    "    value.register_hook(lambda g, name=name: gradient_norms[name].append(g.norm().item()))\n",
    "\n",
    "losses = []\n",
    "pbar = tqdm.tqdm_notebook(range(1500))\n",
    "for i in pbar:\n",
    "    loss = svi.step(data)\n",
    "    losses.append(loss)\n",
    "    pbar.set_postfix({'loss': loss})\n"
   ]
  },
  {
   "cell_type": "markdown",
   "metadata": {},
   "source": [
    "Plot curves for loss and gradient norms"
   ]
  },
  {
   "cell_type": "code",
   "execution_count": 12,
   "metadata": {
    "ExecuteTime": {
     "end_time": "2019-03-03T21:32:20.290547Z",
     "start_time": "2019-03-03T21:32:19.822126Z"
    }
   },
   "outputs": [
    {
     "data": {
      "image/png": "[encoded data removed]",
      "text/plain": [
       "<Figure size 1000x300 with 1 Axes>"
      ]
     },
     "metadata": {},
     "output_type": "display_data"
    }
   ],
   "source": [
    "plt.figure(figsize=(10,3), dpi=100).set_facecolor('white')\n",
    "plt.plot(losses)\n",
    "plt.xlabel('iters')\n",
    "plt.ylabel('loss')\n",
    "plt.yscale('log')\n",
    "plt.title('Convergence of SVI');"
   ]
  },
  {
   "cell_type": "code",
   "execution_count": 13,
   "metadata": {
    "ExecuteTime": {
     "end_time": "2019-03-03T21:32:20.717557Z",
     "start_time": "2019-03-03T21:32:20.291691Z"
    }
   },
   "outputs": [
    {
     "data": {
      "image/png": "[encoded data removed]",
      "text/plain": [
       "<Figure size 1000x400 with 1 Axes>"
      ]
     },
     "metadata": {},
     "output_type": "display_data"
    }
   ],
   "source": [
    "pyplot.figure(figsize=(10,4), dpi=100).set_facecolor('white')\n",
    "for name, grad_norms in gradient_norms.items():\n",
    "    pyplot.plot(grad_norms, label=name)\n",
    "pyplot.xlabel('iters')\n",
    "pyplot.ylabel('gradient norm')\n",
    "pyplot.yscale('log')\n",
    "pyplot.legend(loc='best')\n",
    "pyplot.title('Gradient norms during SVI');"
   ]
  },
  {
   "cell_type": "markdown",
   "metadata": {},
   "source": [
    "Show final parameters for the mixtures"
   ]
  },
  {
   "cell_type": "code",
   "execution_count": 14,
   "metadata": {
    "ExecuteTime": {
     "end_time": "2019-03-03T21:32:20.726310Z",
     "start_time": "2019-03-03T21:32:20.719029Z"
    }
   },
   "outputs": [
    {
     "name": "stdout",
     "output_type": "stream",
     "text": [
      "rms_alphas = [6.922142  3.9013505 2.8710673 2.1388268]\n",
      "rms_betas = [6.5266876 4.969616  4.224115  3.200188 ]\n",
      "dur_alphas = [6.922142  3.9013505 2.8710673 2.1388268]\n",
      "dur_betas = [6.5266876 4.969616  4.224115  3.200188 ]\n",
      "pspeech_alphas = [3.2146375 2.6050758 1.8135499 0.9190794]\n",
      "pspeech_betas = [20.391752  14.394869   7.7573423  1.861503 ]\n",
      "importances = [0.12131908 0.2471369  0.4482939  0.18325011]\n"
     ]
    }
   ],
   "source": [
    "map_estimates = global_guide(data)\n",
    "rms_alphas = map_estimates['rms_alphas']\n",
    "rms_betas = map_estimates['rms_betas']\n",
    "dur_alphas = map_estimates['dur_alphas']\n",
    "dur_betas = map_estimates['dur_betas']\n",
    "pspeech_alphas = map_estimates['pspeech_alphas']\n",
    "pspeech_betas = map_estimates['pspeech_betas']\n",
    "importances = map_estimates['importances']\n",
    "print('rms_alphas = {}'.format(rms_alphas.data.numpy()))\n",
    "print('rms_betas = {}'.format(rms_betas.data.numpy()))\n",
    "print('dur_alphas = {}'.format(rms_alphas.data.numpy()))\n",
    "print('dur_betas = {}'.format(rms_betas.data.numpy()))\n",
    "print('pspeech_alphas = {}'.format(pspeech_alphas.data.numpy()))\n",
    "print('pspeech_betas = {}'.format(pspeech_betas.data.numpy()))\n",
    "print('importances = {}'.format(importances.data.numpy()))"
   ]
  },
  {
   "cell_type": "markdown",
   "metadata": {},
   "source": [
    "Create a classifier out of the model and generate some predictions given the data in the test."
   ]
  },
  {
   "cell_type": "code",
   "execution_count": 15,
   "metadata": {
    "ExecuteTime": {
     "end_time": "2019-03-03T21:32:20.820422Z",
     "start_time": "2019-03-03T21:32:20.727998Z"
    }
   },
   "outputs": [],
   "source": [
    "guide_trace = poutine.trace(global_guide).get_trace(data)  # record the globals\n",
    "trained_model = poutine.replay(model_b, trace=guide_trace)  # replay the globals\n",
    "def classifier(data, temperature=0):\n",
    "    inferred_model = infer_discrete(trained_model, temperature=temperature,\n",
    "                                    first_available_dim=-2)  # avoid conflict with data plate\n",
    "    trace = poutine.trace(inferred_model).get_trace(data)\n",
    "    return trace.nodes[\"assigned\"][\"value\"]\n",
    "def get_prob(data, temperature=0):\n",
    "    inferred_model = infer_discrete(trained_model, temperature=temperature,\n",
    "                                    first_available_dim=-2)  # avoid conflict with data plate\n",
    "    trace = poutine.trace(inferred_model).get_trace(data)\n",
    "    return trace.nodes[\"importances\"][\"value\"]\n",
    "\n",
    "y_pred = classifier(data_test)"
   ]
  },
  {
   "cell_type": "markdown",
   "metadata": {},
   "source": [
    "Run a baseline classifier to compare"
   ]
  },
  {
   "cell_type": "code",
   "execution_count": 16,
   "metadata": {},
   "outputs": [],
   "source": [
    "from sklearn.neighbors import KNeighborsClassifier\n",
    "\n",
    "# Convert train and testing to numpy arrays (they were torch tensors)\n",
    "data_x = data[1:,:].numpy().T\n",
    "data_y = data[0,:].numpy().T\n",
    "data_x_test = data_test[1:,:].numpy().T\n",
    "data_y_test = data_test[0, :].numpy().T\n",
    "\n",
    "# Fit training data\n",
    "knn3 = KNeighborsClassifier(3)\n",
    "knn3.fit(data_x, data_y)\n",
    "\n",
    "knn5 = KNeighborsClassifier(5)\n",
    "knn5.fit(data_x, data_y)\n",
    "\n",
    "# Transoform testing_data\n",
    "pred_knn_3 = knn3.predict(data_x_test)\n",
    "pred_knn_5 = knn5.predict(data_x_test)"
   ]
  },
  {
   "cell_type": "markdown",
   "metadata": {},
   "source": [
    "Show the object files and predictions of their narrative importance. Note that there is a lot of disagreement so just measuring accuracy won't cut it."
   ]
  },
  {
   "cell_type": "code",
   "execution_count": 17,
   "metadata": {},
   "outputs": [
    {
     "name": "stdout",
     "output_type": "stream",
     "text": [
      "(Mixture) ['CreatureVoice.wav'] -> 1 (2.0)\n",
      "(3NN) ['CreatureVoice.wav'] -> 2.0 (2.0)\n",
      "(5NN) ['CreatureVoice.wav'] -> 3.0 (2.0)\n",
      "(Mixture) ['BoyPanting+Birds.wav'] -> 2 (2.0)\n",
      "(3NN) ['BoyPanting+Birds.wav'] -> 2.0 (2.0)\n",
      "(5NN) ['BoyPanting+Birds.wav'] -> 2.0 (2.0)\n",
      "(Mixture) ['Narrator.wav'] -> 3 (3.0)\n",
      "(3NN) ['Narrator.wav'] -> 3.0 (3.0)\n",
      "(5NN) ['Narrator.wav'] -> 3.0 (3.0)\n",
      "(Mixture) ['KidsVoices.wav'] -> 2 (1.0)\n",
      "(3NN) ['KidsVoices.wav'] -> 3.0 (1.0)\n",
      "(5NN) ['KidsVoices.wav'] -> 3.0 (1.0)\n",
      "(Mixture) ['Growl.wav'] -> 2 (2.0)\n",
      "(3NN) ['Growl.wav'] -> 2.0 (2.0)\n",
      "(5NN) ['Growl.wav'] -> 2.0 (2.0)\n",
      "(Mixture) ['BoyRunning.wav'] -> 2 (1.0)\n",
      "(3NN) ['BoyRunning.wav'] -> 2.0 (1.0)\n",
      "(5NN) ['BoyRunning.wav'] -> 2.0 (1.0)\n",
      "(Mixture) ['BoyHumming.wav'] -> 2 (2.0)\n",
      "(3NN) ['BoyHumming.wav'] -> 0.0 (2.0)\n",
      "(5NN) ['BoyHumming.wav'] -> 0.0 (2.0)\n",
      "(Mixture) ['BoyVoice2.wav'] -> 3 (2.0)\n",
      "(3NN) ['BoyVoice2.wav'] -> 2.0 (2.0)\n",
      "(5NN) ['BoyVoice2.wav'] -> 2.0 (2.0)\n",
      "(Mixture) ['Flute.wav'] -> 0 (2.0)\n",
      "(3NN) ['Flute.wav'] -> 2.0 (2.0)\n",
      "(5NN) ['Flute.wav'] -> 2.0 (2.0)\n",
      "(Mixture) ['BoyRunningFalling.wav'] -> 2 (2.0)\n",
      "(3NN) ['BoyRunningFalling.wav'] -> 1.0 (2.0)\n",
      "(5NN) ['BoyRunningFalling.wav'] -> 1.0 (2.0)\n",
      "(Mixture) ['TreeFalling.wav'] -> 0 (0.0)\n",
      "(3NN) ['TreeFalling.wav'] -> 3.0 (0.0)\n",
      "(5NN) ['TreeFalling.wav'] -> 0.0 (0.0)\n",
      "(Mixture) ['BirdTakingFlight.wav'] -> 2 (0.0)\n",
      "(3NN) ['BirdTakingFlight.wav'] -> 0.0 (0.0)\n",
      "(5NN) ['BirdTakingFlight.wav'] -> 0.0 (0.0)\n",
      "(Mixture) ['CreatureFootsteps.wav'] -> 3 (2.0)\n",
      "(3NN) ['CreatureFootsteps.wav'] -> 1.0 (2.0)\n",
      "(5NN) ['CreatureFootsteps.wav'] -> 3.0 (2.0)\n",
      "(Mixture) ['BranchBreak.wav'] -> 2 (2.0)\n",
      "(3NN) ['BranchBreak.wav'] -> 1.0 (2.0)\n",
      "(5NN) ['BranchBreak.wav'] -> 2.0 (2.0)\n",
      "(Mixture) ['BoyVoice1.wav'] -> 2 (3.0)\n",
      "(3NN) ['BoyVoice1.wav'] -> 3.0 (3.0)\n",
      "(5NN) ['BoyVoice1.wav'] -> 3.0 (3.0)\n",
      "(Mixture) ['BoyPanting.wav'] -> 2 (2.0)\n",
      "(3NN) ['BoyPanting.wav'] -> 1.0 (2.0)\n",
      "(5NN) ['BoyPanting.wav'] -> 2.0 (2.0)\n",
      "(Mixture) ['Frogs.wav'] -> 0 (0.0)\n",
      "(3NN) ['Frogs.wav'] -> 0.0 (0.0)\n",
      "(5NN) ['Frogs.wav'] -> 0.0 (0.0)\n",
      "(Mixture) ['CreatureLanding.wav'] -> 2 (1.0)\n",
      "(3NN) ['CreatureLanding.wav'] -> 2.0 (1.0)\n",
      "(5NN) ['CreatureLanding.wav'] -> 2.0 (1.0)\n",
      "(Mixture) ['Crickets.wav'] -> 0 (1.0)\n",
      "(3NN) ['Crickets.wav'] -> 0.0 (1.0)\n",
      "(5NN) ['Crickets.wav'] -> 0.0 (1.0)\n",
      "(Mixture) ['SpookyStrings.wav'] -> 1 (1.0)\n",
      "(3NN) ['SpookyStrings.wav'] -> 2.0 (1.0)\n",
      "(5NN) ['SpookyStrings.wav'] -> 2.0 (1.0)\n",
      "(Mixture) ['CreatureSmile.wav'] -> 2 (1.0)\n",
      "(3NN) ['CreatureSmile.wav'] -> 2.0 (1.0)\n",
      "(5NN) ['CreatureSmile.wav'] -> 2.0 (1.0)\n",
      "(Mixture) ['GirlVoice.wav'] -> 0 (2.0)\n",
      "(3NN) ['GirlVoice.wav'] -> 2.0 (2.0)\n",
      "(5NN) ['GirlVoice.wav'] -> 3.0 (2.0)\n"
     ]
    }
   ],
   "source": [
    "# Add automatic assignments \n",
    "auto_assignments = []\n",
    "nn3_assignments = []\n",
    "nn5_assignments = []\n",
    "assigned_assets = []\n",
    "for I in range(len(y_pred)):\n",
    "    if objects_test[I][0] not in assigned_assets:\n",
    "        print('(Mixture) {} -> {} ({})'.format(objects_test[I], y_pred[I], data_test[0,I]))\n",
    "        print('(3NN) {} -> {} ({})'.format(objects_test[I], pred_knn_3[I], data_y_test[I]))\n",
    "        print('(5NN) {} -> {} ({})'.format(objects_test[I], pred_knn_5[I], data_y_test[I]))        \n",
    "\n",
    "        auto_assignments.append({'session_id': \"auto\", \n",
    "                                 'asset_fname': objects_test[I][0],\n",
    "                                 'assigned': y_pred[I].item(),})\n",
    "                                 \n",
    "        nn3_assignments.append({'session_id': \"3nn\", \n",
    "                                 'asset_fname': objects_test[I][0],\n",
    "                                 'assigned': int(pred_knn_3[I]),})\n",
    "        \n",
    "        nn5_assignments.append({'session_id': \"5nn\", \n",
    "                                 'asset_fname': objects_test[I][0],\n",
    "                                 'assigned': int(pred_knn_5[I]),})        \n",
    "        assigned_assets.append(objects_test[I][0])"
   ]
  },
  {
   "cell_type": "code",
   "execution_count": 18,
   "metadata": {},
   "outputs": [],
   "source": [
    "# Add the assignments by the producer experiment (ground truth)\n",
    "\n",
    "orig_assignments = [\n",
    " {'session_id': \"original\",\n",
    "  'asset_fname': \"Narrator.wav\",\n",
    "  'assigned': 3\n",
    " },\n",
    " {'session_id': \"original\",\n",
    "  'asset_fname': \"CreatureLanding.wav\",\n",
    "  'assigned': 2\n",
    " },\n",
    " {'session_id': \"original\",\n",
    "  'asset_fname': \"Growl.wav\",\n",
    "  'assigned': 1\n",
    " },    \n",
    " {'session_id': \"original\",\n",
    "  'asset_fname': \"BoyPanting+Birds.wav\",\n",
    "  'assigned': 3\n",
    " },        \n",
    " {'session_id': \"original\",\n",
    "  'asset_fname': \"BranchBreak.wav\",\n",
    "  'assigned': 0\n",
    " },   \n",
    " {'session_id': \"original\",\n",
    "  'asset_fname': \"KidsVoices.wav\",\n",
    "  'assigned': 3\n",
    " },        \n",
    " {'session_id': \"original\",\n",
    "  'asset_fname': \"BoyPanting.wav\",\n",
    "  'assigned': 2\n",
    " },   \n",
    " {'session_id': \"original\",\n",
    "  'asset_fname': \"GirlVoice.wav\",\n",
    "  'assigned': 1\n",
    " },  \n",
    " {'session_id': \"original\",\n",
    "  'asset_fname': \"CreatureVoice.wav\",\n",
    "  'assigned': 1\n",
    " },      \n",
    " {'session_id': \"original\",\n",
    "  'asset_fname': \"SpookyStrings.wav\",\n",
    "  'assigned': 1\n",
    " },     \n",
    " {'session_id': \"original\",\n",
    "  'asset_fname': \"Frogs.wav\",\n",
    "  'assigned': 0\n",
    " },   \n",
    " {'session_id': \"original\",\n",
    "  'asset_fname': \"BoyHumming.wav\",\n",
    "  'assigned': 2\n",
    " },    \n",
    " {'session_id': \"original\",\n",
    "  'asset_fname': \"BoyRunning.wav\",\n",
    "  'assigned': 3\n",
    " },  \n",
    " {'session_id': \"original\",\n",
    "  'asset_fname': \"TreeFalling.wav\",\n",
    "  'assigned': 0\n",
    " },        \n",
    " {'session_id': \"original\",\n",
    "  'asset_fname': \"BirdTakingFlight.wav\",\n",
    "  'assigned': 0\n",
    " },           \n",
    " {'session_id': \"original\",\n",
    "  'asset_fname': \"Flute.wav\",\n",
    "  'assigned': 1\n",
    " }, \n",
    " {'session_id': \"original\",\n",
    "  'asset_fname': \"BoyVoice1.wav\",\n",
    "  'assigned': 3\n",
    " }, \n",
    " {'session_id': \"original\",\n",
    "  'asset_fname': \"BoyRunningFalling.wav\",\n",
    "  'assigned': 3\n",
    " },\n",
    " {'session_id': \"original\",\n",
    "  'asset_fname': \"CreatureSmile.wav\",\n",
    "  'assigned': 1\n",
    " },   \n",
    " {'session_id': \"original\",\n",
    "  'asset_fname': \"BoyVoice2.wav\",\n",
    "  'assigned': 3\n",
    " },   \n",
    " {'session_id': \"original\",\n",
    "  'asset_fname': \"Crickets.wav\",\n",
    "  'assigned': 0\n",
    " },     \n",
    " {'session_id': \"original\",\n",
    "  'asset_fname': \"Winds&Birds.wav\",\n",
    "  'assigned': 0\n",
    " },   \n",
    " {'session_id': \"original\",\n",
    "  'asset_fname': \"CreatureLanding.wav\",\n",
    "  'assigned': 2\n",
    " },        \n",
    "]\n"
   ]
  },
  {
   "cell_type": "markdown",
   "metadata": {},
   "source": [
    "Add and store the automatic importance assignments to a new .csv file"
   ]
  },
  {
   "cell_type": "code",
   "execution_count": 19,
   "metadata": {},
   "outputs": [
    {
     "name": "stderr",
     "output_type": "stream",
     "text": [
      "/home/mmxgn/.local/lib/python3.7/site-packages/pandas/core/frame.py:6692: FutureWarning: Sorting because non-concatenation axis is not aligned. A future version\n",
      "of pandas will change to not sort by default.\n",
      "\n",
      "To accept the future behavior, pass 'sort=False'.\n",
      "\n",
      "To retain the current behavior and silence the warning, pass 'sort=True'.\n",
      "\n",
      "  sort=sort)\n"
     ]
    }
   ],
   "source": [
    "auto_df = pd.DataFrame.from_records(auto_assignments)\n",
    "nn3_df = pd.DataFrame.from_records(nn3_assignments)\n",
    "nn5_df = pd.DataFrame.from_records(nn5_assignments)\n",
    "original_df = pd.DataFrame.from_records(orig_assignments)\n",
    "adf = df.append(original_df).append(auto_df)\n",
    "adf = df.append(adf).append(nn3_df)\n",
    "adf = df.append(adf).append(nn5_df)\n",
    "adf.to_csv('../assets/json/features_classes_importances_auto.csv')"
   ]
  },
  {
   "cell_type": "code",
   "execution_count": 20,
   "metadata": {},
   "outputs": [
    {
     "data": {
      "text/html": [
       "<div>\n",
       "<style scoped>\n",
       "    .dataframe tbody tr th:only-of-type {\n",
       "        vertical-align: middle;\n",
       "    }\n",
       "\n",
       "    .dataframe tbody tr th {\n",
       "        vertical-align: top;\n",
       "    }\n",
       "\n",
       "    .dataframe thead th {\n",
       "        text-align: right;\n",
       "    }\n",
       "</style>\n",
       "<table border=\"1\" class=\"dataframe\">\n",
       "  <thead>\n",
       "    <tr style=\"text-align: right;\">\n",
       "      <th></th>\n",
       "      <th>Unnamed: 0</th>\n",
       "      <th>asset_fname</th>\n",
       "      <th>assigned</th>\n",
       "      <th>bark_max</th>\n",
       "      <th>bark_mean</th>\n",
       "      <th>bark_min</th>\n",
       "      <th>class</th>\n",
       "      <th>crest_max</th>\n",
       "      <th>crest_mean</th>\n",
       "      <th>crest_min</th>\n",
       "      <th>...</th>\n",
       "      <th>rms_max</th>\n",
       "      <th>rms_mean</th>\n",
       "      <th>rms_min</th>\n",
       "      <th>sc_max</th>\n",
       "      <th>sc_mean</th>\n",
       "      <th>sc_min</th>\n",
       "      <th>session_id</th>\n",
       "      <th>total_duration</th>\n",
       "      <th>tpti</th>\n",
       "      <th>true_peak</th>\n",
       "    </tr>\n",
       "  </thead>\n",
       "  <tbody>\n",
       "    <tr>\n",
       "      <th>0</th>\n",
       "      <td>0.0</td>\n",
       "      <td>CreatureFootsteps.wav</td>\n",
       "      <td>2</td>\n",
       "      <td>0.30702</td>\n",
       "      <td>0.003003</td>\n",
       "      <td>0.0</td>\n",
       "      <td>sfx</td>\n",
       "      <td>36.849213</td>\n",
       "      <td>5.808205</td>\n",
       "      <td>0.0</td>\n",
       "      <td>...</td>\n",
       "      <td>0.386874</td>\n",
       "      <td>0.036125</td>\n",
       "      <td>0.0</td>\n",
       "      <td>0.514926</td>\n",
       "      <td>0.213073</td>\n",
       "      <td>0.0</td>\n",
       "      <td>5dp799</td>\n",
       "      <td>22.732336</td>\n",
       "      <td>0.018349</td>\n",
       "      <td>-0.4</td>\n",
       "    </tr>\n",
       "    <tr>\n",
       "      <th>1</th>\n",
       "      <td>1.0</td>\n",
       "      <td>CreatureFootsteps.wav</td>\n",
       "      <td>2</td>\n",
       "      <td>0.30702</td>\n",
       "      <td>0.003003</td>\n",
       "      <td>0.0</td>\n",
       "      <td>sfx</td>\n",
       "      <td>36.849213</td>\n",
       "      <td>5.808205</td>\n",
       "      <td>0.0</td>\n",
       "      <td>...</td>\n",
       "      <td>0.386874</td>\n",
       "      <td>0.036125</td>\n",
       "      <td>0.0</td>\n",
       "      <td>0.514926</td>\n",
       "      <td>0.213073</td>\n",
       "      <td>0.0</td>\n",
       "      <td>8DL552</td>\n",
       "      <td>22.732336</td>\n",
       "      <td>0.018349</td>\n",
       "      <td>-0.4</td>\n",
       "    </tr>\n",
       "    <tr>\n",
       "      <th>2</th>\n",
       "      <td>2.0</td>\n",
       "      <td>CreatureFootsteps.wav</td>\n",
       "      <td>2</td>\n",
       "      <td>0.30702</td>\n",
       "      <td>0.003003</td>\n",
       "      <td>0.0</td>\n",
       "      <td>sfx</td>\n",
       "      <td>36.849213</td>\n",
       "      <td>5.808205</td>\n",
       "      <td>0.0</td>\n",
       "      <td>...</td>\n",
       "      <td>0.386874</td>\n",
       "      <td>0.036125</td>\n",
       "      <td>0.0</td>\n",
       "      <td>0.514926</td>\n",
       "      <td>0.213073</td>\n",
       "      <td>0.0</td>\n",
       "      <td>8SN247</td>\n",
       "      <td>22.732336</td>\n",
       "      <td>0.018349</td>\n",
       "      <td>-0.4</td>\n",
       "    </tr>\n",
       "    <tr>\n",
       "      <th>3</th>\n",
       "      <td>3.0</td>\n",
       "      <td>CreatureFootsteps.wav</td>\n",
       "      <td>2</td>\n",
       "      <td>0.30702</td>\n",
       "      <td>0.003003</td>\n",
       "      <td>0.0</td>\n",
       "      <td>sfx</td>\n",
       "      <td>36.849213</td>\n",
       "      <td>5.808205</td>\n",
       "      <td>0.0</td>\n",
       "      <td>...</td>\n",
       "      <td>0.386874</td>\n",
       "      <td>0.036125</td>\n",
       "      <td>0.0</td>\n",
       "      <td>0.514926</td>\n",
       "      <td>0.213073</td>\n",
       "      <td>0.0</td>\n",
       "      <td>0BA352</td>\n",
       "      <td>22.732336</td>\n",
       "      <td>0.018349</td>\n",
       "      <td>-0.4</td>\n",
       "    </tr>\n",
       "    <tr>\n",
       "      <th>4</th>\n",
       "      <td>4.0</td>\n",
       "      <td>CreatureFootsteps.wav</td>\n",
       "      <td>1</td>\n",
       "      <td>0.30702</td>\n",
       "      <td>0.003003</td>\n",
       "      <td>0.0</td>\n",
       "      <td>sfx</td>\n",
       "      <td>36.849213</td>\n",
       "      <td>5.808205</td>\n",
       "      <td>0.0</td>\n",
       "      <td>...</td>\n",
       "      <td>0.386874</td>\n",
       "      <td>0.036125</td>\n",
       "      <td>0.0</td>\n",
       "      <td>0.514926</td>\n",
       "      <td>0.213073</td>\n",
       "      <td>0.0</td>\n",
       "      <td>7SD746</td>\n",
       "      <td>22.732336</td>\n",
       "      <td>0.018349</td>\n",
       "      <td>-0.4</td>\n",
       "    </tr>\n",
       "  </tbody>\n",
       "</table>\n",
       "<p>5 rows × 31 columns</p>\n",
       "</div>"
      ],
      "text/plain": [
       "   Unnamed: 0            asset_fname  assigned  bark_max  bark_mean  bark_min  \\\n",
       "0         0.0  CreatureFootsteps.wav         2   0.30702   0.003003       0.0   \n",
       "1         1.0  CreatureFootsteps.wav         2   0.30702   0.003003       0.0   \n",
       "2         2.0  CreatureFootsteps.wav         2   0.30702   0.003003       0.0   \n",
       "3         3.0  CreatureFootsteps.wav         2   0.30702   0.003003       0.0   \n",
       "4         4.0  CreatureFootsteps.wav         1   0.30702   0.003003       0.0   \n",
       "\n",
       "  class  crest_max  crest_mean  crest_min  ...   rms_max  rms_mean  rms_min  \\\n",
       "0   sfx  36.849213    5.808205        0.0  ...  0.386874  0.036125      0.0   \n",
       "1   sfx  36.849213    5.808205        0.0  ...  0.386874  0.036125      0.0   \n",
       "2   sfx  36.849213    5.808205        0.0  ...  0.386874  0.036125      0.0   \n",
       "3   sfx  36.849213    5.808205        0.0  ...  0.386874  0.036125      0.0   \n",
       "4   sfx  36.849213    5.808205        0.0  ...  0.386874  0.036125      0.0   \n",
       "\n",
       "     sc_max   sc_mean  sc_min session_id  total_duration      tpti  true_peak  \n",
       "0  0.514926  0.213073     0.0     5dp799       22.732336  0.018349       -0.4  \n",
       "1  0.514926  0.213073     0.0     8DL552       22.732336  0.018349       -0.4  \n",
       "2  0.514926  0.213073     0.0     8SN247       22.732336  0.018349       -0.4  \n",
       "3  0.514926  0.213073     0.0     0BA352       22.732336  0.018349       -0.4  \n",
       "4  0.514926  0.213073     0.0     7SD746       22.732336  0.018349       -0.4  \n",
       "\n",
       "[5 rows x 31 columns]"
      ]
     },
     "execution_count": 20,
     "metadata": {},
     "output_type": "execute_result"
    }
   ],
   "source": [
    "adf.head()"
   ]
  },
  {
   "cell_type": "markdown",
   "metadata": {},
   "source": [
    "Extract parameters as numpy arrays "
   ]
  },
  {
   "cell_type": "code",
   "execution_count": 21,
   "metadata": {
    "ExecuteTime": {
     "end_time": "2019-03-03T21:32:21.406121Z",
     "start_time": "2019-03-03T21:31:59.296Z"
    }
   },
   "outputs": [],
   "source": [
    "inferred_model = infer_discrete(trained_model, temperature=0,\n",
    "                                first_available_dim=-2) \n",
    "trace = poutine.trace(inferred_model).get_trace(data)\n",
    "rms_alphas = trace.nodes[\"rms_alphas\"][\"value\"].detach().numpy()\n",
    "rms_betas = trace.nodes[\"rms_betas\"][\"value\"].detach().numpy()\n",
    "dur_alphas = trace.nodes[\"dur_alphas\"][\"value\"].detach().numpy()\n",
    "dur_betas = trace.nodes[\"dur_betas\"][\"value\"].detach().numpy()\n",
    "pspeech_alphas = trace.nodes[\"pspeech_alphas\"][\"value\"].detach().numpy()\n",
    "pspeech_betas = trace.nodes[\"pspeech_betas\"][\"value\"].detach().numpy()\n",
    "pmusic_alphas = trace.nodes[\"pmusic_alphas\"][\"value\"].detach().numpy()\n",
    "pmusic_betas = trace.nodes[\"pmusic_betas\"][\"value\"].detach().numpy()"
   ]
  },
  {
   "cell_type": "markdown",
   "metadata": {},
   "source": [
    "Compute confidence interavals"
   ]
  },
  {
   "cell_type": "code",
   "execution_count": 22,
   "metadata": {},
   "outputs": [
    {
     "name": "stdout",
     "output_type": "stream",
     "text": [
      "P(0.26 < tpti_low < 0.76) = 0.95\n",
      "P(0.15 < tpti_medium < 0.76) = 0.95\n",
      "P(0.11 < tpti_high < 0.76) = 0.95\n",
      "P(0.11 < tpti_essential < 0.75) = 0.95\n",
      "P(0.03 < pspeech_low < 0.29) = 0.95\n",
      "P(0.03 < pspeech_medium < 0.36) = 0.95\n",
      "P(0.02 < pspeech_high < 0.47) = 0.95\n",
      "P(0.01 < pspeech_essential < 0.86) = 0.95\n",
      "P(1.21 < duration_low < 162.52) = 0.95\n",
      "P(0.57 < duration_medium < 111.52) = 0.95\n",
      "P(0.53 < duration_high < 77.12) = 0.95\n",
      "P(0.73 < duration_essential < 70.41) = 0.95\n",
      "P(0.09 < pmusic_low < 0.33) = 0.95\n",
      "P(0.05 < pmusic_medium < 0.55) = 0.95\n",
      "P(0.04 < pmusic_high < 0.55) = 0.95\n",
      "P(0.06 < pmusic_essential < 0.44) = 0.95\n"
     ]
    }
   ],
   "source": [
    "N=10000\n",
    "\n",
    "cardinal_intervals = {}\n",
    "\n",
    "\n",
    "traces = {\n",
    "    'tpti' : { 'low': np.random.beta(a=rms_alphas[0], b=rms_betas[0], size=(N,)),\n",
    "               'medium': np.random.beta(a=rms_alphas[1], b=rms_betas[1], size=(N,)),\n",
    "               'high': np.random.beta(a=rms_alphas[2], b=rms_betas[2], size=(N,)),\n",
    "               'essential': np.random.beta(a=rms_alphas[2], b=rms_betas[2], size=(N,)),\n",
    "             },\n",
    "    'pspeech': {\n",
    "        'low': np.random.beta(a=pspeech_alphas[0], b=pspeech_betas[0], size=(N)),\n",
    "        'medium': np.random.beta(a=pspeech_alphas[1], b=pspeech_betas[1], size=(N)),\n",
    "        'high': np.random.beta(a=pspeech_alphas[2], b=pspeech_betas[2], size=(N)),\n",
    "        'essential': np.random.beta(a=pspeech_alphas[3], b=pspeech_betas[3], size=(N)),       \n",
    "    },\n",
    "    'duration': {\n",
    "        'low': np.random.gamma(shape=dur_alphas[0], scale=1/dur_betas[0], size=(N,)),\n",
    "        'medium':np.random.gamma(shape=dur_alphas[1], scale=1/dur_betas[1], size=(N,)),\n",
    "        'high': np.random.gamma(shape=dur_alphas[2], scale=1/dur_betas[2], size=(N,)),\n",
    "        'essential': np.random.gamma(shape=dur_alphas[3], scale=1/dur_betas[3], size=(N,)),       \n",
    "    },       \n",
    "    'pmusic': {\n",
    "        'low':np.random.beta(a=pmusic_alphas[0], b=pmusic_betas[0], size=(N)),\n",
    "        'medium': np.random.beta(a=pmusic_alphas[1], b=pmusic_betas[1], size=(N)),\n",
    "        'high': np.random.beta(a=pmusic_alphas[2], b=pmusic_betas[2], size=(N)),\n",
    "        'essential': np.random.beta(a=pmusic_alphas[3], b=pmusic_betas[3], size=(N)),       \n",
    "    },\n",
    "\n",
    "    \n",
    "}\n",
    "\n",
    "for trace in traces:\n",
    "    cardinal_intervals[trace] = {}\n",
    "    for imp in ['low', 'medium', 'high', 'essential']:\n",
    "        cardinal_intervals[trace][imp] = (np.percentile(traces[trace][imp], 2.5), np.percentile(traces[trace][imp], 97.5))\n",
    "        print(\"P({0:0.2f} < {1}_{2} < {3:0.2f}) = 0.95\".format(np.percentile(traces[trace][imp], 2.5), trace, imp, np.percentile(traces[trace][imp], 97.5)))"
   ]
  },
  {
   "cell_type": "markdown",
   "metadata": {},
   "source": [
    "Function latexify taken from: https://blog.mdda.net/oss/2015/11/22/matplotlib-for-latex\n",
    "Format the figures nicely to be inserted into the papers\n",
    "The code is adapted from http://www.scipy.org/Cookbook/Matplotlib/LaTeX_Examples\n",
    "Width and max height in inches for IEEE journals taken from\n",
    "http://computer.org/cms/Computer.org/Journal%20templates/transactions_art_guide.pdf\n"
   ]
  },
  {
   "cell_type": "code",
   "execution_count": 23,
   "metadata": {},
   "outputs": [],
   "source": [
    "from numpy import sqrt as sqrt\n",
    "import matplotlib\n",
    "def latexify(fig_width=None, fig_height=None, columns=1):\n",
    "    \"\"\"Set up matplotlib's RC params for LaTeX plotting.\n",
    "    Call this before plotting a figure.\n",
    "\n",
    "    Parameters\n",
    "    ----------\n",
    "    fig_width : float, optional, inches\n",
    "    fig_height : float,  optional, inches\n",
    "    columns : {1, 2}\n",
    "    \"\"\"\n",
    "\n",
    "    # code adapted from http://www.scipy.org/Cookbook/Matplotlib/LaTeX_Examples\n",
    "\n",
    "    # Width and max height in inches for IEEE journals taken from\n",
    "    # computer.org/cms/Computer.org/Journal%20templates/transactions_art_guide.pdf\n",
    "\n",
    "    assert(columns in [1,2])\n",
    "\n",
    "    if fig_width is None:\n",
    "        fig_width = 3.39 if columns==1 else 6.9 # width in inches\n",
    "\n",
    "    if fig_height is None:\n",
    "        golden_mean = (sqrt(5)-1.0)/2.0    # Aesthetic ratio\n",
    "        fig_height = fig_width*golden_mean # height in inches\n",
    "\n",
    "    MAX_HEIGHT_INCHES = 8.0\n",
    "    if fig_height > MAX_HEIGHT_INCHES:\n",
    "        print(\"WARNING: fig_height too large:\" + fig_height + \n",
    "              \"so will reduce to\" + MAX_HEIGHT_INCHES + \"inches.\")\n",
    "        fig_height = MAX_HEIGHT_INCHES\n",
    "\n",
    "    params = {'backend': 'ps',\n",
    "              #'text.latex.preamble': ['\\usepackage{gensymb}'],\n",
    "              'text.latex.preamble': [r'\\usepackage{gensymb}'],\n",
    "              'axes.labelsize': 10, # fontsize for x and y labels (was 10)\n",
    "              'axes.titlesize': 10,\n",
    "              'font.size': 10, # was 10\n",
    "              'legend.fontsize': 10, # was 10\n",
    "              'xtick.labelsize': 10,\n",
    "              'ytick.labelsize': 10,\n",
    "              'text.usetex': True,\n",
    "              'figure.figsize': [fig_width,fig_height],\n",
    "              'font.family': 'serif'\n",
    "    }\n",
    "\n",
    "    matplotlib.rcParams.update(params)\n",
    "\n",
    "\n",
    "def format_axes(ax):\n",
    "\n",
    "    for spine in ['top', 'right']:\n",
    "        ax.spines[spine].set_visible(False)\n",
    "\n",
    "    for spine in ['left', 'bottom']:\n",
    "        ax.spines[spine].set_color(SPINE_COLOR)\n",
    "        ax.spines[spine].set_linewidth(0.5)\n",
    "\n",
    "    ax.xaxis.set_ticks_position('bottom')\n",
    "    ax.yaxis.set_ticks_position('left')\n",
    "\n",
    "    for axis in [ax.xaxis, ax.yaxis]:\n",
    "        axis.set_tick_params(direction='out', color=SPINE_COLOR)\n",
    "\n",
    "    return ax"
   ]
  },
  {
   "cell_type": "markdown",
   "metadata": {},
   "source": [
    "Calculate, plot, and save mixtures defined by `type_`"
   ]
  },
  {
   "cell_type": "code",
   "execution_count": 24,
   "metadata": {},
   "outputs": [
    {
     "name": "stderr",
     "output_type": "stream",
     "text": [
      "/home/mmxgn/.local/lib/python3.7/site-packages/matplotlib/font_manager.py:1241: UserWarning: findfont: Font family ['sans-serif'] not found. Falling back to DejaVu Sans.\n",
      "  (prop.get_family(), self.defaultFamily[fontext]))\n"
     ]
    },
    {
     "data": {
      "image/png": "[encoded data removed]",
      "text/plain": [
       "<Figure size 360x288 with 1 Axes>"
      ]
     },
     "metadata": {
      "needs_background": "light"
     },
     "output_type": "display_data"
    }
   ],
   "source": [
    "from matplotlib import rc\n",
    "rc('font',**{'family':'sans-serif','sans-serif':['Helvetica']})\n",
    "## for Palatino and other serif fonts use:\n",
    "#rc('font',**{'family':'serif','serif':['Palatino']})\n",
    "rc('text', usetex=True)\n",
    "type_ = 'tpti'\n",
    "x = np.linspace (0, 1, 200) \n",
    "y1 = scipy.stats.beta.pdf(x, a=rms_alphas[0], b=rms_betas[0]) #a is alpha, loc is beta???\n",
    "y2 = scipy.stats.beta.pdf(x, a=rms_alphas[1], b=rms_betas[1]) #a is alpha, loc is beta???\n",
    "y3 = scipy.stats.beta.pdf(x, a=rms_alphas[2], b=rms_betas[2]) #a is alpha, loc is beta???\n",
    "y4 = scipy.stats.beta.pdf(x, a=rms_alphas[3], b=rms_betas[3]) #a is alpha, loc is beta???\n",
    "\n",
    "plt.figure(figsize=(5,4))\n",
    "\n",
    "plt.plot(x, y1, \"y--\", label=(r'$\\alpha=29, \\beta=3$'), color='r') \n",
    "plt.plot(x, y2, \"y--\", label=(r'$\\alpha=29, \\beta=3$'), color='g') \n",
    "plt.plot(x, y3, \"y-\", label=(r'$\\alpha=29, \\beta=3$'), color='b') \n",
    "plt.plot(x, y4, \"y-\", label=(r'$\\alpha=29, \\beta=3$'), color='c') \n",
    "\n",
    "plt.legend(['low ({0:0.2f}, {1:0.2f})'.format(cardinal_intervals[type_]['low'][0], cardinal_intervals[type_]['low'][1] ),\n",
    "            'medium ({0:0.2f}, {1:0.2f})'.format(cardinal_intervals[type_]['medium'][0], cardinal_intervals[type_]['medium'][1] ),\n",
    "            'high ({0:0.2f}, {1:0.2f})'.format(cardinal_intervals[type_]['high'][0], cardinal_intervals[type_]['high'][1] ),\n",
    "            'essential ({0:0.2f}, {1:0.2f})'.format(cardinal_intervals[type_]['essential'][0], cardinal_intervals[type_]['essential'][1] ),\n",
    "            ])\n",
    "plt.tight_layout()\n",
    "\n",
    "latexify()\n",
    "plt.savefig('{}_estimated.pdf'.format(type_), dpi=300)"
   ]
  },
  {
   "cell_type": "code",
   "execution_count": 25,
   "metadata": {},
   "outputs": [
    {
     "data": {
      "image/png": "[encoded data removed]",
      "text/plain": [
       "<Figure size 360x288 with 1 Axes>"
      ]
     },
     "metadata": {
      "needs_background": "light"
     },
     "output_type": "display_data"
    }
   ],
   "source": [
    "type_ = 'duration'\n",
    "\n",
    "x = np.linspace (18, 50, 200) \n",
    "y1 = scipy.stats.gamma.pdf(x, a=dur_alphas[0], loc=1/dur_betas[0]) #a is alpha, loc is beta???\n",
    "y2 = scipy.stats.gamma.pdf(x, a=dur_alphas[1], loc=1/dur_betas[1]) #a is alpha, loc is beta???\n",
    "y3 = scipy.stats.gamma.pdf(x, a=dur_alphas[2], loc=1/dur_betas[2]) #a is alpha, loc is beta???\n",
    "y4 = scipy.stats.gamma.pdf(x, a=dur_alphas[3], loc=1/dur_betas[3]) #a is alpha, loc is beta???\n",
    "plt.figure(figsize=(5,4))\n",
    "\n",
    "plt.plot(x, y1, \"y--\", label=(r'$\\alpha=29, \\beta=3$'), color='r') \n",
    "plt.plot(x, y2, \"y--\", label=(r'$\\alpha=29, \\beta=3$'), color='g') \n",
    "plt.plot(x, y3, \"y-\", label=(r'$\\alpha=29, \\beta=3$'), color='b') \n",
    "plt.plot(x, y4, \"y-\", label=(r'$\\alpha=29, \\beta=3$'), color='c') \n",
    "\n",
    "plt.legend(['low ({0:0.2f}, {1:0.2f})'.format(cardinal_intervals[type_]['low'][0], cardinal_intervals[type_]['low'][1] ),\n",
    "            'medium ({0:0.2f}, {1:0.2f})'.format(cardinal_intervals[type_]['medium'][0], cardinal_intervals[type_]['medium'][1] ),\n",
    "            'high ({0:0.2f}, {1:0.2f})'.format(cardinal_intervals[type_]['high'][0], cardinal_intervals[type_]['high'][1] ),\n",
    "            'essential ({0:0.2f}, {1:0.2f})'.format(cardinal_intervals[type_]['essential'][0], cardinal_intervals[type_]['essential'][1] ),\n",
    "            ])\n",
    "\n",
    "plt.tight_layout()\n",
    "latexify()\n",
    "\n",
    "plt.savefig('{}_estimated.pdf'.format(type_), dpi=300)"
   ]
  },
  {
   "cell_type": "code",
   "execution_count": 26,
   "metadata": {},
   "outputs": [
    {
     "data": {
      "image/png": "[encoded data removed]",
      "text/plain": [
       "<Figure size 360x288 with 1 Axes>"
      ]
     },
     "metadata": {
      "needs_background": "light"
     },
     "output_type": "display_data"
    }
   ],
   "source": [
    "type_ = 'pspeech'\n",
    "\n",
    "x = np.linspace (0, 1, 200) \n",
    "y1 = scipy.stats.beta.pdf(x, a=pspeech_alphas[0], b=pspeech_betas[0]) #a is alpha, loc is beta???\n",
    "y2 = scipy.stats.beta.pdf(x, a=pspeech_alphas[1], b=pspeech_betas[1]) #a is alpha, loc is beta???\n",
    "y3 = scipy.stats.beta.pdf(x, a=pspeech_alphas[2], b=pspeech_betas[2]) #a is alpha, loc is beta???\n",
    "y4 = scipy.stats.beta.pdf(x, a=pspeech_alphas[3], b=pspeech_betas[3]) #a is alpha, loc is beta???\n",
    "plt.figure(figsize=(5,4))\n",
    "\n",
    "plt.plot(x, y1, \"y--\", label=(r'$\\alpha=29, \\beta=3$'), color='r') \n",
    "plt.plot(x, y2, \"y--\", label=(r'$\\alpha=29, \\beta=3$'), color='g') \n",
    "plt.plot(x, y3, \"y-\", label=(r'$\\alpha=29, \\beta=3$'), color='b') \n",
    "plt.plot(x, y4, \"y-\", label=(r'$\\alpha=29, \\beta=3$'), color='c') \n",
    "\n",
    "plt.legend(['low ({0:0.2f}, {1:0.2f})'.format(cardinal_intervals[type_]['low'][0], cardinal_intervals[type_]['low'][1] ),\n",
    "            'medium ({0:0.2f}, {1:0.2f})'.format(cardinal_intervals[type_]['medium'][0], cardinal_intervals[type_]['medium'][1] ),\n",
    "            'high ({0:0.2f}, {1:0.2f})'.format(cardinal_intervals[type_]['high'][0], cardinal_intervals[type_]['high'][1] ),\n",
    "            'essential ({0:0.2f}, {1:0.2f})'.format(cardinal_intervals[type_]['essential'][0], cardinal_intervals[type_]['essential'][1] ),\n",
    "            ])\n",
    "plt.tight_layout()\n",
    "latexify()\n",
    "\n",
    "plt.savefig('{}_estimated.pdf'.format(type_), dpi=300)"
   ]
  },
  {
   "cell_type": "code",
   "execution_count": 27,
   "metadata": {},
   "outputs": [
    {
     "data": {
      "text/plain": [
       "<Figure size 648x504 with 0 Axes>"
      ]
     },
     "metadata": {},
     "output_type": "display_data"
    },
    {
     "data": {
      "image/png": "[encoded data removed]",
      "text/plain": [
       "<Figure size 360x288 with 1 Axes>"
      ]
     },
     "metadata": {
      "needs_background": "light"
     },
     "output_type": "display_data"
    }
   ],
   "source": [
    "type_ = 'pmusic'\n",
    "\n",
    "plt.figure(figsize=(9,7))\n",
    "x = np.linspace (0, 1, 200) \n",
    "y1 = scipy.stats.beta.pdf(x, a=pmusic_alphas[0], b=pmusic_betas[0]) #a is alpha, loc is beta???\n",
    "y2 = scipy.stats.beta.pdf(x, a=pmusic_alphas[1], b=pmusic_betas[1]) #a is alpha, loc is beta???\n",
    "y3 = scipy.stats.beta.pdf(x, a=pmusic_alphas[2], b=pmusic_betas[2]) #a is alpha, loc is beta???\n",
    "y4 = scipy.stats.beta.pdf(x, a=pmusic_alphas[3], b=pmusic_betas[3]) #a is alpha, loc is beta???\n",
    "\n",
    "plt.figure(figsize=(5,4))\n",
    "\n",
    "plt.plot(x, y1, \"y--\", label=(r'$\\alpha=29, \\beta=3$'), color='r') \n",
    "plt.plot(x, y2, \"y--\", label=(r'$\\alpha=29, \\beta=3$'), color='g') \n",
    "plt.plot(x, y3, \"y-\", label=(r'$\\alpha=29, \\beta=3$'), color='b') \n",
    "plt.plot(x, y4, \"y-\", label=(r'$\\alpha=29, \\beta=3$'), color='c') \n",
    "\n",
    "plt.legend(['low ({0:0.2f}, {1:0.2f})'.format(cardinal_intervals[type_]['low'][0], cardinal_intervals[type_]['low'][1] ),\n",
    "            'medium ({0:0.2f}, {1:0.2f})'.format(cardinal_intervals[type_]['medium'][0], cardinal_intervals[type_]['medium'][1] ),\n",
    "            'high ({0:0.2f}, {1:0.2f})'.format(cardinal_intervals[type_]['high'][0], cardinal_intervals[type_]['high'][1] ),\n",
    "            'essential ({0:0.2f}, {1:0.2f})'.format(cardinal_intervals[type_]['essential'][0], cardinal_intervals[type_]['essential'][1] ),\n",
    "            ])\n",
    "plt.tight_layout()\n",
    "latexify()\n",
    "\n",
    "plt.savefig('{}_estimated.pdf'.format(type_), dpi=300)"
   ]
  },
  {
   "cell_type": "markdown",
   "metadata": {},
   "source": [
    "The evaluation is done in `STOIMeasurements.ipynb`."
   ]
  }
 ],
 "metadata": {
  "kernelspec": {
   "display_name": "Python 3",
   "language": "python",
   "name": "python3"
  },
  "language_info": {
   "codemirror_mode": {
    "name": "ipython",
    "version": 3
   },
   "file_extension": ".py",
   "mimetype": "text/x-python",
   "name": "python",
   "nbconvert_exporter": "python",
   "pygments_lexer": "ipython3",
   "version": "3.7.3"
  },
  "latex_envs": {
   "LaTeX_envs_menu_present": true,
   "autoclose": false,
   "autocomplete": true,
   "bibliofile": "biblio.bib",
   "cite_by": "apalike",
   "current_citInitial": 1,
   "eqLabelWithNumbers": true,
   "eqNumInitial": 1,
   "hotkeys": {
    "equation": "Ctrl-E",
    "itemize": "Ctrl-I"
   },
   "labels_anchors": false,
   "latex_user_defs": false,
   "report_style_numbering": false,
   "user_envs_cfg": false
  },
  "varInspector": {
   "cols": {
    "lenName": 16,
    "lenType": 16,
    "lenVar": 40
   },
   "kernels_config": {
    "python": {
     "delete_cmd_postfix": "",
     "delete_cmd_prefix": "del ",
     "library": "var_list.py",
     "varRefreshCmd": "print(var_dic_list())"
    },
    "r": {
     "delete_cmd_postfix": ") ",
     "delete_cmd_prefix": "rm(",
     "library": "var_list.r",
     "varRefreshCmd": "cat(var_dic_list()) "
    }
   },
   "types_to_exclude": [
    "module",
    "function",
    "builtin_function_or_method",
    "instance",
    "_Feature"
   ],
   "window_display": false
  }
 },
 "nbformat": 4,
 "nbformat_minor": 2
}
